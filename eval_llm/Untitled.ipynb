{
 "cells": [
  {
   "cell_type": "code",
   "execution_count": 2,
   "id": "68c312bb",
   "metadata": {},
   "outputs": [
    {
     "name": "stdout",
     "output_type": "stream",
     "text": [
      "Collecting rouge\n",
      "  Downloading rouge-1.0.1-py3-none-any.whl (13 kB)\n",
      "Requirement already satisfied: six in /Users/michaloleszak/Documents/playground/.playground/lib/python3.9/site-packages (from rouge) (1.16.0)\n",
      "Installing collected packages: rouge\n",
      "Successfully installed rouge-1.0.1\n",
      "\n",
      "\u001b[1m[\u001b[0m\u001b[34;49mnotice\u001b[0m\u001b[1;39;49m]\u001b[0m\u001b[39;49m A new release of pip is available: \u001b[0m\u001b[31;49m23.1.2\u001b[0m\u001b[39;49m -> \u001b[0m\u001b[32;49m23.2.1\u001b[0m\n",
      "\u001b[1m[\u001b[0m\u001b[34;49mnotice\u001b[0m\u001b[1;39;49m]\u001b[0m\u001b[39;49m To update, run: \u001b[0m\u001b[32;49m/Users/michaloleszak/Documents/playground/.playground/bin/python3 -m pip install --upgrade pip\u001b[0m\n",
      "Note: you may need to restart the kernel to use updated packages.\n"
     ]
    }
   ],
   "source": [
    "pip install rouge"
   ]
  },
  {
   "cell_type": "code",
   "execution_count": 2,
   "id": "78a30437",
   "metadata": {},
   "outputs": [
    {
     "data": {
      "text/plain": [
       "[{'rouge-1': {'r': 0.631578947368421,\n",
       "   'p': 0.5217391304347826,\n",
       "   'f': 0.571428566473923},\n",
       "  'rouge-2': {'r': 0.2777777777777778,\n",
       "   'p': 0.20833333333333334,\n",
       "   'f': 0.23809523319727902},\n",
       "  'rouge-l': {'r': 0.47368421052631576,\n",
       "   'p': 0.391304347826087,\n",
       "   'f': 0.42857142361678}}]"
      ]
     },
     "execution_count": 2,
     "metadata": {},
     "output_type": "execute_result"
    }
   ],
   "source": [
    "from rouge import Rouge \n",
    "\n",
    "hypothesis = \"Anna searches for her favorite book 'The Silent Stars', and Ben admits he borrowed it without asking, leading to a plan to discuss it later\"\n",
    "\n",
    "reference = \"Anna realizes Ben borrowed her favorite book without asking, and they agree to discuss it once he's finished reading\"\n",
    "\n",
    "rouge = Rouge()\n",
    "scores = rouge.get_scores(hypothesis, reference)\n",
    "scores"
   ]
  },
  {
   "cell_type": "code",
   "execution_count": 3,
   "id": "95786dc2",
   "metadata": {},
   "outputs": [
    {
     "data": {
      "text/plain": [
       "18.0"
      ]
     },
     "execution_count": 3,
     "metadata": {},
     "output_type": "execute_result"
    }
   ],
   "source": [
    "5/0.2777777777777778"
   ]
  },
  {
   "cell_type": "code",
   "execution_count": 4,
   "id": "5053099b",
   "metadata": {},
   "outputs": [
    {
     "name": "stdout",
     "output_type": "stream",
     "text": [
      "{('her', 'favorite'), ('discuss', 'it'), ('favorite', 'book'), ('to', 'discuss'), ('without', 'asking,')}\n",
      "5\n"
     ]
    }
   ],
   "source": [
    "def generate_bigrams(sentence):\n",
    "    \"\"\"Generate bigrams from a sentence.\"\"\"\n",
    "    tokens = sentence.split()\n",
    "    bigrams = [(tokens[i], tokens[i+1]) for i in range(len(tokens)-1)]\n",
    "    return set(bigrams)\n",
    "\n",
    "def count_bigram_matches(sentence1, sentence2):\n",
    "    \"\"\"Count the number of bigram matches between two sentences.\"\"\"\n",
    "    bigrams1 = generate_bigrams(sentence1)\n",
    "    bigrams2 = generate_bigrams(sentence2)\n",
    "    \n",
    "    matching_bigrams = bigrams1.intersection(bigrams2)\n",
    "    print(matching_bigrams)\n",
    "    return len(matching_bigrams)\n",
    "\n",
    "# Example\n",
    "hypothesis = \"Anna searches for her favorite book 'The Silent Stars', and Ben admits he borrowed it without asking, leading to a plan to discuss it later\"\n",
    "reference = \"Anna realizes Ben borrowed her favorite book without asking, and they agree to discuss it once he's finished reading\"\n",
    "\n",
    "print(count_bigram_matches(hypothesis, reference))  # Output: 3\n"
   ]
  },
  {
   "cell_type": "code",
   "execution_count": 31,
   "id": "f094674d",
   "metadata": {},
   "outputs": [
    {
     "data": {
      "text/plain": [
       "[{'rouge-1': {'r': 0.9, 'p': 1.0, 'f': 0.9473684160664821},\n",
       "  'rouge-2': {'r': 0.7777777777777778, 'p': 0.875, 'f': 0.823529406782007},\n",
       "  'rouge-l': {'r': 0.9, 'p': 1.0, 'f': 0.9473684160664821}}]"
      ]
     },
     "execution_count": 31,
     "metadata": {},
     "output_type": "execute_result"
    }
   ],
   "source": [
    "from rouge import Rouge \n",
    "\n",
    "hypothesis = \"climate change is a significant threat to global biodiversity\"\n",
    "\n",
    "reference = \"climate change is not a significant threat to global biodiversity\"\n",
    "\n",
    "rouge = Rouge()\n",
    "scores = rouge.get_scores(hypothesis, reference)\n",
    "scores"
   ]
  },
  {
   "cell_type": "code",
   "execution_count": 21,
   "id": "47be8775",
   "metadata": {},
   "outputs": [
    {
     "data": {
      "text/plain": [
       "0.5697391304347826"
      ]
     },
     "execution_count": 21,
     "metadata": {},
     "output_type": "execute_result"
    }
   ],
   "source": [
    "2 * (0.63*0.52) / (0.63+0.52)"
   ]
  },
  {
   "cell_type": "code",
   "execution_count": 6,
   "id": "13413bf6",
   "metadata": {},
   "outputs": [
    {
     "name": "stdout",
     "output_type": "stream",
     "text": [
      "{'r': 0.47368421052631576, 'p': 0.391304347826087, 'f': 0.42857142361678}\n"
     ]
    }
   ],
   "source": [
    "print(scores[0][\"rouge-l\"])"
   ]
  },
  {
   "cell_type": "code",
   "execution_count": 17,
   "id": "129d7f26",
   "metadata": {},
   "outputs": [
    {
     "name": "stdout",
     "output_type": "stream",
     "text": [
      "Bootstrap Samples:\n",
      "[[-0.22672246  0.65304831  0.92066672  0.65304831  0.65304831]\n",
      " [ 0.10576365  0.92066672  0.92066672  0.92066672  0.65304831]\n",
      " [-0.22672246  0.92066672  0.65304831  0.10576365 -0.22672246]]...\n",
      "Bootstrap Metrics (Means): [0.53061784 0.70416242 0.24520675]...\n",
      "Mean 95% Confidence Interval: (0.259477306844585, 0.6954851919243095)\n"
     ]
    }
   ],
   "source": [
    "import numpy as np\n",
    "\n",
    "def bootstrap_confidence_interval_detailed(data, metric_func, alpha=0.05, n_bootstrap=1000, seed=42):\n",
    "    \"\"\"\n",
    "    Estimate the (1-alpha) confidence interval of a metric using the bootstrap method and return intermediate results.\n",
    "\n",
    "    Parameters:\n",
    "    - data (1D array-like): Input data.\n",
    "    - metric_func (callable): Function to compute the desired metric. It should take an array-like as input and return a scalar.\n",
    "    - alpha (float): Significance level. If alpha is 0.05, then the function returns the 95% confidence interval.\n",
    "    - n_bootstrap (int): Number of bootstrap samples to create.\n",
    "    - seed (int): Random seed for reproducibility.\n",
    "\n",
    "    Returns:\n",
    "    - dict: Dictionary with keys:\n",
    "        - 'bootstrap_samples': 2D array of bootstrap samples.\n",
    "        - 'bootstrap_metrics': 1D array of metric values computed for each bootstrap sample.\n",
    "        - 'confidence_interval': tuple with the lower and upper bounds of the confidence interval.\n",
    "    \"\"\"\n",
    "    \n",
    "    # Set the random seed for reproducibility\n",
    "    np.random.seed(seed)\n",
    "    \n",
    "    # Generate bootstrap samples\n",
    "    bootstrap_samples = np.random.choice(data, (n_bootstrap, len(data)), replace=True)\n",
    "    \n",
    "    # Compute the metric on each bootstrap sample\n",
    "    bootstrap_metrics = np.apply_along_axis(metric_func, 1, bootstrap_samples)\n",
    "\n",
    "    # Calculate the lower and upper percentiles for confidence interval\n",
    "    lower = np.percentile(bootstrap_metrics, 100 * (alpha / 2))\n",
    "    upper = np.percentile(bootstrap_metrics, 100 * (1 - alpha / 2))\n",
    "    \n",
    "    results = {\n",
    "        'bootstrap_samples': bootstrap_samples,\n",
    "        'bootstrap_metrics': bootstrap_metrics,\n",
    "        'confidence_interval': (lower, upper)\n",
    "    }\n",
    "    \n",
    "    return results\n",
    "\n",
    "# Example usage:\n",
    "data = np.random.randn(5)  # Generating 100 random data points from a standard normal distribution\n",
    "results = bootstrap_confidence_interval_detailed(data, np.mean, n_bootstrap=3)\n",
    "print(f\"Bootstrap Samples:\\n{results['bootstrap_samples'][:5]}...\")  # Print the first 5 bootstrap samples for brevity\n",
    "print(f\"Bootstrap Metrics (Means): {results['bootstrap_metrics'][:5]}...\")  # Print the first 5 computed metrics\n",
    "print(f\"Mean 95% Confidence Interval: {results['confidence_interval']}\")\n"
   ]
  },
  {
   "cell_type": "code",
   "execution_count": 14,
   "id": "c99d3ec5",
   "metadata": {},
   "outputs": [
    {
     "name": "stdout",
     "output_type": "stream",
     "text": [
      "Requirement already satisfied: nltk in /usr/local/lib/python3.11/site-packages (3.8.1)\n",
      "Requirement already satisfied: click in /usr/local/lib/python3.11/site-packages (from nltk) (8.1.7)\n",
      "Requirement already satisfied: joblib in /usr/local/lib/python3.11/site-packages (from nltk) (1.2.0)\n",
      "Requirement already satisfied: regex>=2021.8.3 in /usr/local/lib/python3.11/site-packages (from nltk) (2023.12.25)\n",
      "Requirement already satisfied: tqdm in /usr/local/lib/python3.11/site-packages (from nltk) (4.66.1)\n",
      "\n",
      "\u001b[1m[\u001b[0m\u001b[34;49mnotice\u001b[0m\u001b[1;39;49m]\u001b[0m\u001b[39;49m A new release of pip is available: \u001b[0m\u001b[31;49m23.0.1\u001b[0m\u001b[39;49m -> \u001b[0m\u001b[32;49m23.3.2\u001b[0m\n",
      "\u001b[1m[\u001b[0m\u001b[34;49mnotice\u001b[0m\u001b[1;39;49m]\u001b[0m\u001b[39;49m To update, run: \u001b[0m\u001b[32;49mpython3.11 -m pip install --upgrade pip\u001b[0m\n"
     ]
    }
   ],
   "source": [
    "!pip3 install nltk"
   ]
  },
  {
   "cell_type": "code",
   "execution_count": 62,
   "id": "a520f539",
   "metadata": {},
   "outputs": [
    {
     "name": "stdout",
     "output_type": "stream",
     "text": [
      "0.36973494931036327\n"
     ]
    }
   ],
   "source": [
    "import nltk\n",
    "\n",
    "machine = \"Szybki lis skacze nad leniwym psem\".split(\" \")\n",
    "golden = \"Szybki brązowy lis przeskakuje nad leniwym psem\".split(\" \")\n",
    "\n",
    "bleu_score = nltk.translate.bleu_score.sentence_bleu(\n",
    "    [golden], machine, weights=(1./3., 1./3. , 1./3.)\n",
    ")\n",
    "\n",
    "print(bleu_score)"
   ]
  },
  {
   "cell_type": "code",
   "execution_count": 64,
   "id": "b0512fb7",
   "metadata": {},
   "outputs": [
    {
     "data": {
      "text/plain": [
       "0.4362070671454838"
      ]
     },
     "execution_count": 64,
     "metadata": {},
     "output_type": "execute_result"
    }
   ],
   "source": [
    "geom_avg_precision = (0.83 * 0.4 * 0.25) ** (1/3)\n",
    "geom_avg_precision"
   ]
  },
  {
   "cell_type": "code",
   "execution_count": 66,
   "id": "dc0900e0",
   "metadata": {},
   "outputs": [
    {
     "data": {
      "text/plain": [
       "0.846481724890614"
      ]
     },
     "execution_count": 66,
     "metadata": {},
     "output_type": "execute_result"
    }
   ],
   "source": [
    "breviy_penalty = np.exp(1 - len(golden)/len(machine))\n",
    "breviy_penalty"
   ]
  },
  {
   "cell_type": "code",
   "execution_count": 67,
   "id": "8a2e0b8e",
   "metadata": {},
   "outputs": [
    {
     "data": {
      "text/plain": [
       "0.369241310606785"
      ]
     },
     "execution_count": 67,
     "metadata": {},
     "output_type": "execute_result"
    }
   ],
   "source": [
    "geom_avg_precision * breviy_penalty"
   ]
  }
 ],
 "metadata": {
  "kernelspec": {
   "display_name": ".playground",
   "language": "python",
   "name": ".playground"
  },
  "language_info": {
   "codemirror_mode": {
    "name": "ipython",
    "version": 3
   },
   "file_extension": ".py",
   "mimetype": "text/x-python",
   "name": "python",
   "nbconvert_exporter": "python",
   "pygments_lexer": "ipython3",
   "version": "3.9.16"
  }
 },
 "nbformat": 4,
 "nbformat_minor": 5
}
